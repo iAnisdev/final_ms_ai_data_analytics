{
 "cells": [
  {
   "cell_type": "code",
   "execution_count": null,
   "metadata": {},
   "outputs": [],
   "source": [
    "# Select python kernel in jupyter notebook to run this script\n",
    "# Python 3.12.4\n",
    "# install the dependencies from the requirements.txt file"
   ]
  },
  {
   "cell_type": "code",
   "execution_count": 71,
   "metadata": {},
   "outputs": [
    {
     "name": "stdout",
     "output_type": "stream",
     "text": [
      "\n",
      "\u001b[1m[\u001b[0m\u001b[34;49mnotice\u001b[0m\u001b[1;39;49m]\u001b[0m\u001b[39;49m A new release of pip is available: \u001b[0m\u001b[31;49m24.0\u001b[0m\u001b[39;49m -> \u001b[0m\u001b[32;49m24.3.1\u001b[0m\n",
      "\u001b[1m[\u001b[0m\u001b[34;49mnotice\u001b[0m\u001b[1;39;49m]\u001b[0m\u001b[39;49m To update, run: \u001b[0m\u001b[32;49mpip install --upgrade pip\u001b[0m\n",
      "Note: you may need to restart the kernel to use updated packages.\n"
     ]
    }
   ],
   "source": [
    "pip install -r requirements.txt"
   ]
  },
  {
   "cell_type": "code",
   "execution_count": 90,
   "metadata": {},
   "outputs": [],
   "source": [
    "# import the dataset\n",
    "import pandas as pd\n",
    "import numpy as np\n",
    "\n",
    "# Load the dataset\n",
    "df = pd.read_csv('dataset.csv')"
   ]
  },
  {
   "cell_type": "code",
   "execution_count": 91,
   "metadata": {},
   "outputs": [
    {
     "name": "stdout",
     "output_type": "stream",
     "text": [
      "<class 'pandas.core.frame.DataFrame'>\n",
      "RangeIndex: 2498 entries, 0 to 2497\n",
      "Data columns (total 7 columns):\n",
      " #   Column     Non-Null Count  Dtype \n",
      "---  ------     --------------  ----- \n",
      " 0   Price      2498 non-null   object\n",
      " 1   Adj Close  2498 non-null   object\n",
      " 2   Close      2498 non-null   object\n",
      " 3   High       2498 non-null   object\n",
      " 4   Low        2498 non-null   object\n",
      " 5   Open       2498 non-null   object\n",
      " 6   Volume     2498 non-null   object\n",
      "dtypes: object(7)\n",
      "memory usage: 136.7+ KB\n",
      "None\n"
     ]
    }
   ],
   "source": [
    "# Data characteristics\n",
    "print(df.info())"
   ]
  },
  {
   "cell_type": "code",
   "execution_count": 92,
   "metadata": {},
   "outputs": [
    {
     "name": "stdout",
     "output_type": "stream",
     "text": [
      "             Price          Adj Close              Close  High  \\\n",
      "count         2498               2498               2498  2498   \n",
      "unique        2498               2451               2451  2436   \n",
      "top     2024-12-03  125.9800033569336  125.9800033569336  87.5   \n",
      "freq             1                  3                  3     3   \n",
      "\n",
      "                       Low              Open    Volume  \n",
      "count                 2498              2498      2498  \n",
      "unique                2443              2403      2466  \n",
      "top     49.099998474121094  81.1500015258789  60512000  \n",
      "freq                     4                 3         3  \n"
     ]
    }
   ],
   "source": [
    "print(df.describe())"
   ]
  },
  {
   "cell_type": "code",
   "execution_count": 95,
   "metadata": {},
   "outputs": [
    {
     "name": "stdout",
     "output_type": "stream",
     "text": [
      "        Price           Adj Close    Close                High  \\\n",
      "3  2015-01-06   14.76449966430664  14.7645  15.149999618530273   \n",
      "4  2015-01-07  14.920999526977539  14.9210  15.064000129699707   \n",
      "5  2015-01-08   15.02299976348877  15.0230  15.156999588012695   \n",
      "6  2015-01-09  14.846500396728516  14.8465  15.143500328063965   \n",
      "7  2015-01-12  14.570500373840332  14.5705   14.92549991607666   \n",
      "\n",
      "                  Low                Open    Volume  Daily Return  \n",
      "3  14.619000434875488  15.112000465393066  70380000      0.000000  \n",
      "4  14.766500473022461              14.875  52806000      0.010600  \n",
      "5  14.805500030517578  15.015999794006348  61768000      0.006836  \n",
      "6  14.833999633789062  15.074000358581543  51848000     -0.011749  \n",
      "7   14.46399974822998  14.878000259399414  68428000     -0.018590  \n"
     ]
    }
   ],
   "source": [
    "# Data Collection and Manipulation\n",
    "\n",
    "# Handling missing data\n",
    "df = df.dropna()\n",
    "\n",
    "# remove the first row of the dataset as it contains the column names and not the actual data\n",
    "df = df.iloc[1:]\n",
    "\n",
    "# Convert 'Close' column to numeric values\n",
    "df['Close'] = pd.to_numeric(df['Close'], errors='coerce')\n",
    "\n",
    "# Add a new column 'Daily Return' \n",
    "df['Daily Return'] = df['Close'].pct_change().fillna(0)\n",
    "\n",
    "print(df.head())\n"
   ]
  },
  {
   "cell_type": "code",
   "execution_count": 100,
   "metadata": {},
   "outputs": [
    {
     "name": "stdout",
     "output_type": "stream",
     "text": [
      "        Price  Adj Close     Close      High       Low      Open    Volume  \\\n",
      "3  2015-01-06   0.002088  0.002088  0.003032  0.001813  0.003993  0.114808   \n",
      "4  2015-01-07   0.002871  0.002871  0.002605  0.002563  0.002807  0.076562   \n",
      "5  2015-01-08   0.003382  0.003382  0.003067  0.002762  0.003513  0.096066   \n",
      "6  2015-01-09   0.002498  0.002498  0.003000  0.002907  0.003803  0.074477   \n",
      "7  2015-01-12   0.001116  0.001116  0.001917  0.001025  0.002822  0.110560   \n",
      "\n",
      "   Daily Return  \n",
      "3      0.000000  \n",
      "4      0.010600  \n",
      "5      0.006836  \n",
      "6     -0.011749  \n",
      "7     -0.018590  \n"
     ]
    }
   ],
   "source": [
    "from sklearn.preprocessing import MinMaxScaler\n",
    "scaler = MinMaxScaler()\n",
    "df[['Adj Close' , 'Open', 'High', 'Low', 'Close', 'Volume']] = scaler.fit_transform(df[['Adj Close' , 'Open', 'High', 'Low', 'Close', 'Volume']])\n",
    "\n",
    "print(df.head())"
   ]
  }
 ],
 "metadata": {
  "kernelspec": {
   "display_name": "env",
   "language": "python",
   "name": "python3"
  },
  "language_info": {
   "codemirror_mode": {
    "name": "ipython",
    "version": 3
   },
   "file_extension": ".py",
   "mimetype": "text/x-python",
   "name": "python",
   "nbconvert_exporter": "python",
   "pygments_lexer": "ipython3",
   "version": "3.12.4"
  }
 },
 "nbformat": 4,
 "nbformat_minor": 2
}
