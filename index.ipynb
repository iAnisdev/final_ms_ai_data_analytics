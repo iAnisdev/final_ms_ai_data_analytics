{
 "cells": [
  {
   "cell_type": "code",
   "execution_count": null,
   "metadata": {},
   "outputs": [],
   "source": [
    "# Select python kernel in jupyter notebook to run this script\n",
    "# Python 3.12.4\n",
    "# install the dependencies from the requirements.txt file"
   ]
  },
  {
   "cell_type": "code",
   "execution_count": 71,
   "metadata": {},
   "outputs": [
    {
     "name": "stdout",
     "output_type": "stream",
     "text": [
      "\n",
      "\u001b[1m[\u001b[0m\u001b[34;49mnotice\u001b[0m\u001b[1;39;49m]\u001b[0m\u001b[39;49m A new release of pip is available: \u001b[0m\u001b[31;49m24.0\u001b[0m\u001b[39;49m -> \u001b[0m\u001b[32;49m24.3.1\u001b[0m\n",
      "\u001b[1m[\u001b[0m\u001b[34;49mnotice\u001b[0m\u001b[1;39;49m]\u001b[0m\u001b[39;49m To update, run: \u001b[0m\u001b[32;49mpip install --upgrade pip\u001b[0m\n",
      "Note: you may need to restart the kernel to use updated packages.\n"
     ]
    }
   ],
   "source": [
    "pip install -r requirements.txt"
   ]
  },
  {
   "cell_type": "code",
   "execution_count": 90,
   "metadata": {},
   "outputs": [],
   "source": [
    "# import the dataset\n",
    "import pandas as pd\n",
    "import numpy as np\n",
    "\n",
    "# Load the dataset\n",
    "df = pd.read_csv('dataset.csv')"
   ]
  },
  {
   "cell_type": "code",
   "execution_count": 91,
   "metadata": {},
   "outputs": [
    {
     "name": "stdout",
     "output_type": "stream",
     "text": [
      "<class 'pandas.core.frame.DataFrame'>\n",
      "RangeIndex: 2498 entries, 0 to 2497\n",
      "Data columns (total 7 columns):\n",
      " #   Column     Non-Null Count  Dtype \n",
      "---  ------     --------------  ----- \n",
      " 0   Price      2498 non-null   object\n",
      " 1   Adj Close  2498 non-null   object\n",
      " 2   Close      2498 non-null   object\n",
      " 3   High       2498 non-null   object\n",
      " 4   Low        2498 non-null   object\n",
      " 5   Open       2498 non-null   object\n",
      " 6   Volume     2498 non-null   object\n",
      "dtypes: object(7)\n",
      "memory usage: 136.7+ KB\n",
      "None\n"
     ]
    }
   ],
   "source": [
    "# Data characteristics\n",
    "print(df.info())"
   ]
  },
  {
   "cell_type": "code",
   "execution_count": 92,
   "metadata": {},
   "outputs": [
    {
     "name": "stdout",
     "output_type": "stream",
     "text": [
      "             Price          Adj Close              Close  High  \\\n",
      "count         2498               2498               2498  2498   \n",
      "unique        2498               2451               2451  2436   \n",
      "top     2024-12-03  125.9800033569336  125.9800033569336  87.5   \n",
      "freq             1                  3                  3     3   \n",
      "\n",
      "                       Low              Open    Volume  \n",
      "count                 2498              2498      2498  \n",
      "unique                2443              2403      2466  \n",
      "top     49.099998474121094  81.1500015258789  60512000  \n",
      "freq                     4                 3         3  \n"
     ]
    }
   ],
   "source": [
    "print(df.describe())"
   ]
  }
 ],
 "metadata": {
  "kernelspec": {
   "display_name": "env",
   "language": "python",
   "name": "python3"
  },
  "language_info": {
   "codemirror_mode": {
    "name": "ipython",
    "version": 3
   },
   "file_extension": ".py",
   "mimetype": "text/x-python",
   "name": "python",
   "nbconvert_exporter": "python",
   "pygments_lexer": "ipython3",
   "version": "3.12.4"
  }
 },
 "nbformat": 4,
 "nbformat_minor": 2
}
